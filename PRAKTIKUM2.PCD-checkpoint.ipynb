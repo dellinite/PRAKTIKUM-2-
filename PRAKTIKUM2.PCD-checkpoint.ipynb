{
 "cells": [
  {
   "cell_type": "code",
   "execution_count": 1,
   "id": "4ae305ce",
   "metadata": {},
   "outputs": [
    {
     "name": "stdout",
     "output_type": "stream",
     "text": [
      "Note: you may need to restart the kernel to use updated packages.\n"
     ]
    },
    {
     "name": "stderr",
     "output_type": "stream",
     "text": [
      "ERROR: Could not find a version that satisfies the requirement opencv-phyton\n",
      "ERROR: No matching distribution found for opencv-phyton\n"
     ]
    }
   ],
   "source": [
    "pip install opencv-phyton"
   ]
  },
  {
   "cell_type": "code",
   "execution_count": 1,
   "id": "8b960b7f",
   "metadata": {},
   "outputs": [
    {
     "name": "stdout",
     "output_type": "stream",
     "text": [
      "Note: you may need to restart the kernel to use updated packages.\n"
     ]
    },
    {
     "name": "stderr",
     "output_type": "stream",
     "text": [
      "ERROR: Could not find a version that satisfies the requirement opencv-phyton\n",
      "ERROR: No matching distribution found for opencv-phyton\n"
     ]
    }
   ],
   "source": [
    "pip install opencv-phyton"
   ]
  },
  {
   "cell_type": "markdown",
   "id": "e7eb6ac7",
   "metadata": {},
   "source": [
    "## Install OpenCV"
   ]
  },
  {
   "cell_type": "code",
   "execution_count": 1,
   "id": "658d5382",
   "metadata": {},
   "outputs": [
    {
     "name": "stdout",
     "output_type": "stream",
     "text": [
      "Collecting opencv-python\n",
      "  Using cached opencv_python-4.11.0.86-cp37-abi3-win_amd64.whl (39.5 MB)\n",
      "Requirement already satisfied: numpy>=1.17.3 in c:\\users\\lenovo\\anaconda3\\lib\\site-packages (from opencv-python) (1.20.1)\n",
      "Installing collected packages: opencv-python\n",
      "Successfully installed opencv-python-4.11.0.86\n",
      "Note: you may need to restart the kernel to use updated packages.\n"
     ]
    }
   ],
   "source": [
    "pip install opencv-python"
   ]
  },
  {
   "cell_type": "code",
   "execution_count": 1,
   "id": "e40a5b5a",
   "metadata": {},
   "outputs": [],
   "source": [
    "import cv2\n",
    "import numpy as np"
   ]
  },
  {
   "cell_type": "markdown",
   "id": "f44aae87",
   "metadata": {},
   "source": [
    "## Import Library"
   ]
  },
  {
   "cell_type": "code",
   "execution_count": 2,
   "id": "2dfe5e57",
   "metadata": {},
   "outputs": [],
   "source": [
    "import cv2\n",
    "import numpy as np"
   ]
  },
  {
   "cell_type": "markdown",
   "id": "b84d2c18",
   "metadata": {},
   "source": [
    "## Membaca Citra"
   ]
  },
  {
   "cell_type": "code",
   "execution_count": 3,
   "id": "e4b77cf4",
   "metadata": {},
   "outputs": [],
   "source": [
    "citra = cv2.imread('orange.jpg')"
   ]
  },
  {
   "cell_type": "code",
   "execution_count": 5,
   "id": "a767bdf7",
   "metadata": {},
   "outputs": [],
   "source": [
    "cv2.imshow(\"citra asli\", citra)\n",
    "cv2.waitKey()\n",
    "cv2.destroyAllWindows()"
   ]
  },
  {
   "cell_type": "markdown",
   "id": "3f830d3b",
   "metadata": {},
   "source": [
    "## Dimensi Citra"
   ]
  },
  {
   "cell_type": "code",
   "execution_count": 8,
   "id": "5d7152ad",
   "metadata": {},
   "outputs": [
    {
     "name": "stdout",
     "output_type": "stream",
     "text": [
      "(544, 960, 3)\n",
      "uint8\n"
     ]
    }
   ],
   "source": [
    "print(citra.shape)\n",
    "print(citra.dtype)"
   ]
  },
  {
   "cell_type": "markdown",
   "id": "709d82fb",
   "metadata": {},
   "source": [
    "## Splitting Citra RGB"
   ]
  },
  {
   "cell_type": "code",
   "execution_count": 9,
   "id": "c61d0028",
   "metadata": {},
   "outputs": [],
   "source": [
    "b = citra[:,:,0]\n",
    "g = citra[:,:,1]\n",
    "r = citra[:,:,2]"
   ]
  },
  {
   "cell_type": "code",
   "execution_count": 11,
   "id": "41b72423",
   "metadata": {},
   "outputs": [],
   "source": [
    "panjang = len(citra)\n",
    "lebar = len(citra[0])\n",
    "\n",
    "citra_gray = np.zeros((panjang,lebar))\n",
    "\n",
    "for i in range (panjang):\n",
    "    for j in range (lebar):\n",
    "        citra_gray[i,j] = 0.2989* r[i,j] + 0.587 * g[i,j] + 0.1141 * b[i,j]\n",
    "        \n",
    "citra_gray = citra_gray.astype(np.uint8)\n",
    "\n",
    "cv2.imshow(\"citra grayscale\", citra_gray)\n",
    "cv2.waitKey()\n",
    "cv2.destroyAllWindows()"
   ]
  },
  {
   "cell_type": "code",
   "execution_count": 13,
   "id": "026304d4",
   "metadata": {},
   "outputs": [
    {
     "name": "stdout",
     "output_type": "stream",
     "text": [
      "[[[ 18  25  18]\n",
      "  [ 18  25  18]\n",
      "  [ 17  25  15]\n",
      "  ...\n",
      "  [ 14  19  17]\n",
      "  [ 19  24  22]\n",
      "  [ 18  23  21]]\n",
      "\n",
      " [[ 16  23  16]\n",
      "  [ 18  25  18]\n",
      "  [ 17  25  15]\n",
      "  ...\n",
      "  [ 13  18  16]\n",
      "  [ 17  22  20]\n",
      "  [ 17  22  20]]\n",
      "\n",
      " [[ 17  25  15]\n",
      "  [ 18  26  16]\n",
      "  [ 19  27  17]\n",
      "  ...\n",
      "  [ 13  18  16]\n",
      "  [ 16  21  19]\n",
      "  [ 18  23  21]]\n",
      "\n",
      " ...\n",
      "\n",
      " [[ 18  61  34]\n",
      "  [ 18  59  32]\n",
      "  [ 17  55  33]\n",
      "  ...\n",
      "  [ 12 193 248]\n",
      "  [ 11 188 249]\n",
      "  [  3 178 241]]\n",
      "\n",
      " [[ 15  60  33]\n",
      "  [ 14  57  30]\n",
      "  [ 15  53  31]\n",
      "  ...\n",
      "  [  5 190 248]\n",
      "  [ 17 189 255]\n",
      "  [ 29 195 255]]\n",
      "\n",
      " [[ 18  63  36]\n",
      "  [ 16  59  32]\n",
      "  [ 16  54  32]\n",
      "  ...\n",
      "  [  0 183 243]\n",
      "  [ 19 190 255]\n",
      "  [ 18 182 254]]]\n"
     ]
    }
   ],
   "source": [
    "print(citra)"
   ]
  },
  {
   "cell_type": "code",
   "execution_count": 12,
   "id": "5e5ebe4b",
   "metadata": {
    "scrolled": true
   },
   "outputs": [
    {
     "name": "stdout",
     "output_type": "stream",
     "text": [
      "[[ 22  22  21 ...  17  22  21]\n",
      " [ 20  22  21 ...  16  20  20]\n",
      " [ 21  22  23 ...  16  19  21]\n",
      " ...\n",
      " [ 48  46  44 ... 188 186 176]\n",
      " [ 46  44  42 ... 186 189 193]\n",
      " [ 49  46  43 ... 180 189 184]]\n"
     ]
    }
   ],
   "source": [
    "print(citra_gray)"
   ]
  },
  {
   "cell_type": "markdown",
   "id": "2539ffae",
   "metadata": {},
   "source": [
    "## Grayscale to Binary"
   ]
  },
  {
   "cell_type": "code",
   "execution_count": 15,
   "id": "8ea734d4",
   "metadata": {},
   "outputs": [],
   "source": [
    "panjang = len(citra)\n",
    "lebar = len(citra[0])\n",
    "\n",
    "ambang = 90\n",
    "\n",
    "citra_biner = np.zeros((panjang,lebar))\n",
    "\n",
    "for i in range (panjang):\n",
    "    for j in range (lebar):\n",
    "        if citra_gray[i,j] >= ambang:\n",
    "            citra_biner[i,j] = 1 #putih\n",
    "        else:\n",
    "            citra_biner[i,j] = 0 #hitam\n",
    "\n",
    "cv2.imshow(\"citra binary\", citra_biner)\n",
    "cv2.waitKey()\n",
    "cv2.destroyAllWindows()"
   ]
  },
  {
   "cell_type": "code",
   "execution_count": 16,
   "id": "ca28f146",
   "metadata": {},
   "outputs": [
    {
     "name": "stdout",
     "output_type": "stream",
     "text": [
      "[[0. 0. 0. ... 0. 0. 0.]\n",
      " [0. 0. 0. ... 0. 0. 0.]\n",
      " [0. 0. 0. ... 0. 0. 0.]\n",
      " ...\n",
      " [0. 0. 0. ... 1. 1. 1.]\n",
      " [0. 0. 0. ... 1. 1. 1.]\n",
      " [0. 0. 0. ... 1. 1. 1.]]\n"
     ]
    }
   ],
   "source": [
    "print(citra_biner)"
   ]
  },
  {
   "cell_type": "code",
   "execution_count": null,
   "id": "ea1988c7",
   "metadata": {},
   "outputs": [],
   "source": []
  }
 ],
 "metadata": {
  "kernelspec": {
   "display_name": "Python 3",
   "language": "python",
   "name": "python3"
  },
  "language_info": {
   "codemirror_mode": {
    "name": "ipython",
    "version": 3
   },
   "file_extension": ".py",
   "mimetype": "text/x-python",
   "name": "python",
   "nbconvert_exporter": "python",
   "pygments_lexer": "ipython3",
   "version": "3.8.8"
  }
 },
 "nbformat": 4,
 "nbformat_minor": 5
}
